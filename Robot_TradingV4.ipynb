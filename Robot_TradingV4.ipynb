{
  "nbformat": 4,
  "nbformat_minor": 0,
  "metadata": {
    "colab": {
      "provenance": []
    },
    "kernelspec": {
      "name": "python3",
      "display_name": "Python 3"
    },
    "language_info": {
      "name": "python"
    }
  },
  "cells": [
    {
      "cell_type": "markdown",
      "source": [
        "#1. Configurando Ambiente"
      ],
      "metadata": {
        "id": "T1GwTj1_IWMr"
      }
    },
    {
      "cell_type": "code",
      "execution_count": 1,
      "metadata": {
        "id": "nWe0av0ycJ2_"
      },
      "outputs": [],
      "source": [
        "import pandas as pd\n",
        "import numpy as np\n",
        "import yfinance as yf\n",
        "import matplotlib.pyplot as plt\n",
        "from bs4 import BeautifulSoup\n",
        "import requests\n",
        "global df_bitcoin, precio_actual, tendencia, media_bitcoin,  algoritmo_decision,df_bitcoin_limpio"
      ]
    },
    {
      "cell_type": "code",
      "source": [
        "!python -V\n",
        "print('------')\n",
        "!pip show Pandas | grep 'Name\\|Version'\n",
        "print('------')\n",
        "!pip show Numpy | grep 'Name\\|Version'\n",
        "print('------')\n",
        "!pip show Matplotlib | grep 'Name\\|Version'"
      ],
      "metadata": {
        "id": "I4KYJb4Upd0C",
        "colab": {
          "base_uri": "https://localhost:8080/"
        },
        "outputId": "38be1b91-4718-4f3e-c9be-bacca251570d"
      },
      "execution_count": null,
      "outputs": [
        {
          "output_type": "stream",
          "name": "stdout",
          "text": [
            "Python 3.10.11\n",
            "------\n",
            "Name: pandas\n",
            "Version: 1.5.3\n",
            "------\n",
            "Name: numpy\n",
            "Version: 1.22.4\n",
            "------\n",
            "Name: matplotlib\n",
            "Version: 3.7.1\n"
          ]
        }
      ]
    },
    {
      "cell_type": "markdown",
      "source": [
        "#2. Obtención de datos"
      ],
      "metadata": {
        "id": "uf7Kzz88IfFY"
      }
    },
    {
      "cell_type": "markdown",
      "source": [
        "#2.1. Precios Históricos de Bitcoin"
      ],
      "metadata": {
        "id": "Qrk06zDxIvgP"
      }
    },
    {
      "cell_type": "code",
      "source": [
        "def importar_base_bitcoin():\n",
        "  global df_bitcoin\n",
        "  df_bitcoin = yf.Ticker(\"BTC-USD\").history(period='7d', interval='5m')\n"
      ],
      "metadata": {
        "id": "b7Yx8g83zxof"
      },
      "execution_count": 2,
      "outputs": []
    },
    {
      "cell_type": "code",
      "source": [
        "#Base Historica de precios del Bitcoin\n",
        "importar_base_bitcoin()\n",
        "df_bitcoin.head()"
      ],
      "metadata": {
        "colab": {
          "base_uri": "https://localhost:8080/",
          "height": 238
        },
        "id": "CVzzsELqXZwJ",
        "outputId": "9579996e-83fc-4db6-c965-a7bcdd34cd06"
      },
      "execution_count": 3,
      "outputs": [
        {
          "output_type": "execute_result",
          "data": {
            "text/plain": [
              "                                   Open          High           Low  \\\n",
              "Datetime                                                              \n",
              "2023-05-15 00:00:00+00:00  26931.384766  26940.218750  26927.855469   \n",
              "2023-05-15 00:05:00+00:00  26942.525391  26942.525391  26920.029297   \n",
              "2023-05-15 00:10:00+00:00  26918.232422  26935.404297  26914.136719   \n",
              "2023-05-15 00:15:00+00:00  26919.871094  26919.871094  26811.279297   \n",
              "2023-05-15 00:20:00+00:00  26818.732422  26837.500000  26808.048828   \n",
              "\n",
              "                                  Close    Volume  Dividends  Stock Splits  \n",
              "Datetime                                                                    \n",
              "2023-05-15 00:00:00+00:00  26939.564453         0        0.0           0.0  \n",
              "2023-05-15 00:05:00+00:00  26920.029297         0        0.0           0.0  \n",
              "2023-05-15 00:10:00+00:00  26935.404297         0        0.0           0.0  \n",
              "2023-05-15 00:15:00+00:00  26812.771484  90236928        0.0           0.0  \n",
              "2023-05-15 00:20:00+00:00  26834.156250  38383616        0.0           0.0  "
            ],
            "text/html": [
              "\n",
              "  <div id=\"df-edfa5c3a-f929-4418-b35e-98f9e20b69f9\">\n",
              "    <div class=\"colab-df-container\">\n",
              "      <div>\n",
              "<style scoped>\n",
              "    .dataframe tbody tr th:only-of-type {\n",
              "        vertical-align: middle;\n",
              "    }\n",
              "\n",
              "    .dataframe tbody tr th {\n",
              "        vertical-align: top;\n",
              "    }\n",
              "\n",
              "    .dataframe thead th {\n",
              "        text-align: right;\n",
              "    }\n",
              "</style>\n",
              "<table border=\"1\" class=\"dataframe\">\n",
              "  <thead>\n",
              "    <tr style=\"text-align: right;\">\n",
              "      <th></th>\n",
              "      <th>Open</th>\n",
              "      <th>High</th>\n",
              "      <th>Low</th>\n",
              "      <th>Close</th>\n",
              "      <th>Volume</th>\n",
              "      <th>Dividends</th>\n",
              "      <th>Stock Splits</th>\n",
              "    </tr>\n",
              "    <tr>\n",
              "      <th>Datetime</th>\n",
              "      <th></th>\n",
              "      <th></th>\n",
              "      <th></th>\n",
              "      <th></th>\n",
              "      <th></th>\n",
              "      <th></th>\n",
              "      <th></th>\n",
              "    </tr>\n",
              "  </thead>\n",
              "  <tbody>\n",
              "    <tr>\n",
              "      <th>2023-05-15 00:00:00+00:00</th>\n",
              "      <td>26931.384766</td>\n",
              "      <td>26940.218750</td>\n",
              "      <td>26927.855469</td>\n",
              "      <td>26939.564453</td>\n",
              "      <td>0</td>\n",
              "      <td>0.0</td>\n",
              "      <td>0.0</td>\n",
              "    </tr>\n",
              "    <tr>\n",
              "      <th>2023-05-15 00:05:00+00:00</th>\n",
              "      <td>26942.525391</td>\n",
              "      <td>26942.525391</td>\n",
              "      <td>26920.029297</td>\n",
              "      <td>26920.029297</td>\n",
              "      <td>0</td>\n",
              "      <td>0.0</td>\n",
              "      <td>0.0</td>\n",
              "    </tr>\n",
              "    <tr>\n",
              "      <th>2023-05-15 00:10:00+00:00</th>\n",
              "      <td>26918.232422</td>\n",
              "      <td>26935.404297</td>\n",
              "      <td>26914.136719</td>\n",
              "      <td>26935.404297</td>\n",
              "      <td>0</td>\n",
              "      <td>0.0</td>\n",
              "      <td>0.0</td>\n",
              "    </tr>\n",
              "    <tr>\n",
              "      <th>2023-05-15 00:15:00+00:00</th>\n",
              "      <td>26919.871094</td>\n",
              "      <td>26919.871094</td>\n",
              "      <td>26811.279297</td>\n",
              "      <td>26812.771484</td>\n",
              "      <td>90236928</td>\n",
              "      <td>0.0</td>\n",
              "      <td>0.0</td>\n",
              "    </tr>\n",
              "    <tr>\n",
              "      <th>2023-05-15 00:20:00+00:00</th>\n",
              "      <td>26818.732422</td>\n",
              "      <td>26837.500000</td>\n",
              "      <td>26808.048828</td>\n",
              "      <td>26834.156250</td>\n",
              "      <td>38383616</td>\n",
              "      <td>0.0</td>\n",
              "      <td>0.0</td>\n",
              "    </tr>\n",
              "  </tbody>\n",
              "</table>\n",
              "</div>\n",
              "      <button class=\"colab-df-convert\" onclick=\"convertToInteractive('df-edfa5c3a-f929-4418-b35e-98f9e20b69f9')\"\n",
              "              title=\"Convert this dataframe to an interactive table.\"\n",
              "              style=\"display:none;\">\n",
              "        \n",
              "  <svg xmlns=\"http://www.w3.org/2000/svg\" height=\"24px\"viewBox=\"0 0 24 24\"\n",
              "       width=\"24px\">\n",
              "    <path d=\"M0 0h24v24H0V0z\" fill=\"none\"/>\n",
              "    <path d=\"M18.56 5.44l.94 2.06.94-2.06 2.06-.94-2.06-.94-.94-2.06-.94 2.06-2.06.94zm-11 1L8.5 8.5l.94-2.06 2.06-.94-2.06-.94L8.5 2.5l-.94 2.06-2.06.94zm10 10l.94 2.06.94-2.06 2.06-.94-2.06-.94-.94-2.06-.94 2.06-2.06.94z\"/><path d=\"M17.41 7.96l-1.37-1.37c-.4-.4-.92-.59-1.43-.59-.52 0-1.04.2-1.43.59L10.3 9.45l-7.72 7.72c-.78.78-.78 2.05 0 2.83L4 21.41c.39.39.9.59 1.41.59.51 0 1.02-.2 1.41-.59l7.78-7.78 2.81-2.81c.8-.78.8-2.07 0-2.86zM5.41 20L4 18.59l7.72-7.72 1.47 1.35L5.41 20z\"/>\n",
              "  </svg>\n",
              "      </button>\n",
              "      \n",
              "  <style>\n",
              "    .colab-df-container {\n",
              "      display:flex;\n",
              "      flex-wrap:wrap;\n",
              "      gap: 12px;\n",
              "    }\n",
              "\n",
              "    .colab-df-convert {\n",
              "      background-color: #E8F0FE;\n",
              "      border: none;\n",
              "      border-radius: 50%;\n",
              "      cursor: pointer;\n",
              "      display: none;\n",
              "      fill: #1967D2;\n",
              "      height: 32px;\n",
              "      padding: 0 0 0 0;\n",
              "      width: 32px;\n",
              "    }\n",
              "\n",
              "    .colab-df-convert:hover {\n",
              "      background-color: #E2EBFA;\n",
              "      box-shadow: 0px 1px 2px rgba(60, 64, 67, 0.3), 0px 1px 3px 1px rgba(60, 64, 67, 0.15);\n",
              "      fill: #174EA6;\n",
              "    }\n",
              "\n",
              "    [theme=dark] .colab-df-convert {\n",
              "      background-color: #3B4455;\n",
              "      fill: #D2E3FC;\n",
              "    }\n",
              "\n",
              "    [theme=dark] .colab-df-convert:hover {\n",
              "      background-color: #434B5C;\n",
              "      box-shadow: 0px 1px 3px 1px rgba(0, 0, 0, 0.15);\n",
              "      filter: drop-shadow(0px 1px 2px rgba(0, 0, 0, 0.3));\n",
              "      fill: #FFFFFF;\n",
              "    }\n",
              "  </style>\n",
              "\n",
              "      <script>\n",
              "        const buttonEl =\n",
              "          document.querySelector('#df-edfa5c3a-f929-4418-b35e-98f9e20b69f9 button.colab-df-convert');\n",
              "        buttonEl.style.display =\n",
              "          google.colab.kernel.accessAllowed ? 'block' : 'none';\n",
              "\n",
              "        async function convertToInteractive(key) {\n",
              "          const element = document.querySelector('#df-edfa5c3a-f929-4418-b35e-98f9e20b69f9');\n",
              "          const dataTable =\n",
              "            await google.colab.kernel.invokeFunction('convertToInteractive',\n",
              "                                                     [key], {});\n",
              "          if (!dataTable) return;\n",
              "\n",
              "          const docLinkHtml = 'Like what you see? Visit the ' +\n",
              "            '<a target=\"_blank\" href=https://colab.research.google.com/notebooks/data_table.ipynb>data table notebook</a>'\n",
              "            + ' to learn more about interactive tables.';\n",
              "          element.innerHTML = '';\n",
              "          dataTable['output_type'] = 'display_data';\n",
              "          await google.colab.output.renderOutput(dataTable, element);\n",
              "          const docLink = document.createElement('div');\n",
              "          docLink.innerHTML = docLinkHtml;\n",
              "          element.appendChild(docLink);\n",
              "        }\n",
              "      </script>\n",
              "    </div>\n",
              "  </div>\n",
              "  "
            ]
          },
          "metadata": {},
          "execution_count": 3
        }
      ]
    },
    {
      "cell_type": "markdown",
      "source": [
        "#2.2. Indicadores de Tendencia"
      ],
      "metadata": {
        "id": "ps6wyMbkJAAD"
      }
    },
    {
      "cell_type": "code",
      "source": [
        "def extraer_tendencias():\n",
        "  global precio_actual,tendencia\n",
        "  headers={'User-Agent':'Mozilla/5.0 (Windows NT 10.0; Win64; x64) AppleWebKit/537.36 (KHTML, like Gecko) Chrome/113.0.0.0 Safari/537.36'}\n",
        "  url=\"https://coinmarketcap.com/\"\n",
        "  respuesta=requests.get(url,headers=headers)\n",
        "  soup=BeautifulSoup(respuesta.content,'html.parser')\n",
        "  #Filtro para el valor del Precio del Bitcoin\n",
        "  precios=soup.findAll('div',{'class':['sc-cadad039-0 clgqXO fall','sc-cadad039-0 clgqXO rise','sc-cadad039-0 clgqXO']})\n",
        "  precio_actual=float(precios[0].get_text().replace('$','').replace(',',''))\n",
        "  #Filtro para la tendencia\n",
        "  span_element = soup.findAll('span', {'class': ['sc-97d6d2ca-0 cYiHal','sc-97d6d2ca-0 bQjSqS']})[0]\n",
        "  if 'sc-97d6d2ca-0 cYiHal' in ' '.join(span_element['class']):\n",
        "      tendencia = 'Alta'\n",
        "  else:\n",
        "      tendencia = 'Baja'\n"
      ],
      "metadata": {
        "id": "ABqxVus9pd4o"
      },
      "execution_count": 4,
      "outputs": []
    },
    {
      "cell_type": "code",
      "source": [
        "extraer_tendencias()\n",
        "print('Bitcoin precio: ',precio_actual)\n",
        "print('Tendencia: ',tendencia)"
      ],
      "metadata": {
        "id": "HVadVr2npd_J",
        "colab": {
          "base_uri": "https://localhost:8080/"
        },
        "outputId": "27786806-8a9b-43e4-e716-a285ed9b8262"
      },
      "execution_count": 5,
      "outputs": [
        {
          "output_type": "stream",
          "name": "stdout",
          "text": [
            "Bitcoin precio:  27183.76\n",
            "Tendencia:  Alta\n"
          ]
        }
      ]
    },
    {
      "cell_type": "markdown",
      "source": [
        "# 3. Limpieza de Datos"
      ],
      "metadata": {
        "id": "OQp4-ayUpeBR"
      }
    },
    {
      "cell_type": "code",
      "source": [
        "df_bitcoin_limpio=df_bitcoin.copy()\n",
        "df_bitcoin_limpio.head()"
      ],
      "metadata": {
        "id": "jFNAfyrhpeDj",
        "colab": {
          "base_uri": "https://localhost:8080/",
          "height": 238
        },
        "outputId": "d4392f87-03da-478d-b1e0-c5af77c41297"
      },
      "execution_count": 6,
      "outputs": [
        {
          "output_type": "execute_result",
          "data": {
            "text/plain": [
              "                                   Open          High           Low  \\\n",
              "Datetime                                                              \n",
              "2023-05-15 00:00:00+00:00  26931.384766  26940.218750  26927.855469   \n",
              "2023-05-15 00:05:00+00:00  26942.525391  26942.525391  26920.029297   \n",
              "2023-05-15 00:10:00+00:00  26918.232422  26935.404297  26914.136719   \n",
              "2023-05-15 00:15:00+00:00  26919.871094  26919.871094  26811.279297   \n",
              "2023-05-15 00:20:00+00:00  26818.732422  26837.500000  26808.048828   \n",
              "\n",
              "                                  Close    Volume  Dividends  Stock Splits  \n",
              "Datetime                                                                    \n",
              "2023-05-15 00:00:00+00:00  26939.564453         0        0.0           0.0  \n",
              "2023-05-15 00:05:00+00:00  26920.029297         0        0.0           0.0  \n",
              "2023-05-15 00:10:00+00:00  26935.404297         0        0.0           0.0  \n",
              "2023-05-15 00:15:00+00:00  26812.771484  90236928        0.0           0.0  \n",
              "2023-05-15 00:20:00+00:00  26834.156250  38383616        0.0           0.0  "
            ],
            "text/html": [
              "\n",
              "  <div id=\"df-9ade324d-ae69-4752-829a-cfd5fca72601\">\n",
              "    <div class=\"colab-df-container\">\n",
              "      <div>\n",
              "<style scoped>\n",
              "    .dataframe tbody tr th:only-of-type {\n",
              "        vertical-align: middle;\n",
              "    }\n",
              "\n",
              "    .dataframe tbody tr th {\n",
              "        vertical-align: top;\n",
              "    }\n",
              "\n",
              "    .dataframe thead th {\n",
              "        text-align: right;\n",
              "    }\n",
              "</style>\n",
              "<table border=\"1\" class=\"dataframe\">\n",
              "  <thead>\n",
              "    <tr style=\"text-align: right;\">\n",
              "      <th></th>\n",
              "      <th>Open</th>\n",
              "      <th>High</th>\n",
              "      <th>Low</th>\n",
              "      <th>Close</th>\n",
              "      <th>Volume</th>\n",
              "      <th>Dividends</th>\n",
              "      <th>Stock Splits</th>\n",
              "    </tr>\n",
              "    <tr>\n",
              "      <th>Datetime</th>\n",
              "      <th></th>\n",
              "      <th></th>\n",
              "      <th></th>\n",
              "      <th></th>\n",
              "      <th></th>\n",
              "      <th></th>\n",
              "      <th></th>\n",
              "    </tr>\n",
              "  </thead>\n",
              "  <tbody>\n",
              "    <tr>\n",
              "      <th>2023-05-15 00:00:00+00:00</th>\n",
              "      <td>26931.384766</td>\n",
              "      <td>26940.218750</td>\n",
              "      <td>26927.855469</td>\n",
              "      <td>26939.564453</td>\n",
              "      <td>0</td>\n",
              "      <td>0.0</td>\n",
              "      <td>0.0</td>\n",
              "    </tr>\n",
              "    <tr>\n",
              "      <th>2023-05-15 00:05:00+00:00</th>\n",
              "      <td>26942.525391</td>\n",
              "      <td>26942.525391</td>\n",
              "      <td>26920.029297</td>\n",
              "      <td>26920.029297</td>\n",
              "      <td>0</td>\n",
              "      <td>0.0</td>\n",
              "      <td>0.0</td>\n",
              "    </tr>\n",
              "    <tr>\n",
              "      <th>2023-05-15 00:10:00+00:00</th>\n",
              "      <td>26918.232422</td>\n",
              "      <td>26935.404297</td>\n",
              "      <td>26914.136719</td>\n",
              "      <td>26935.404297</td>\n",
              "      <td>0</td>\n",
              "      <td>0.0</td>\n",
              "      <td>0.0</td>\n",
              "    </tr>\n",
              "    <tr>\n",
              "      <th>2023-05-15 00:15:00+00:00</th>\n",
              "      <td>26919.871094</td>\n",
              "      <td>26919.871094</td>\n",
              "      <td>26811.279297</td>\n",
              "      <td>26812.771484</td>\n",
              "      <td>90236928</td>\n",
              "      <td>0.0</td>\n",
              "      <td>0.0</td>\n",
              "    </tr>\n",
              "    <tr>\n",
              "      <th>2023-05-15 00:20:00+00:00</th>\n",
              "      <td>26818.732422</td>\n",
              "      <td>26837.500000</td>\n",
              "      <td>26808.048828</td>\n",
              "      <td>26834.156250</td>\n",
              "      <td>38383616</td>\n",
              "      <td>0.0</td>\n",
              "      <td>0.0</td>\n",
              "    </tr>\n",
              "  </tbody>\n",
              "</table>\n",
              "</div>\n",
              "      <button class=\"colab-df-convert\" onclick=\"convertToInteractive('df-9ade324d-ae69-4752-829a-cfd5fca72601')\"\n",
              "              title=\"Convert this dataframe to an interactive table.\"\n",
              "              style=\"display:none;\">\n",
              "        \n",
              "  <svg xmlns=\"http://www.w3.org/2000/svg\" height=\"24px\"viewBox=\"0 0 24 24\"\n",
              "       width=\"24px\">\n",
              "    <path d=\"M0 0h24v24H0V0z\" fill=\"none\"/>\n",
              "    <path d=\"M18.56 5.44l.94 2.06.94-2.06 2.06-.94-2.06-.94-.94-2.06-.94 2.06-2.06.94zm-11 1L8.5 8.5l.94-2.06 2.06-.94-2.06-.94L8.5 2.5l-.94 2.06-2.06.94zm10 10l.94 2.06.94-2.06 2.06-.94-2.06-.94-.94-2.06-.94 2.06-2.06.94z\"/><path d=\"M17.41 7.96l-1.37-1.37c-.4-.4-.92-.59-1.43-.59-.52 0-1.04.2-1.43.59L10.3 9.45l-7.72 7.72c-.78.78-.78 2.05 0 2.83L4 21.41c.39.39.9.59 1.41.59.51 0 1.02-.2 1.41-.59l7.78-7.78 2.81-2.81c.8-.78.8-2.07 0-2.86zM5.41 20L4 18.59l7.72-7.72 1.47 1.35L5.41 20z\"/>\n",
              "  </svg>\n",
              "      </button>\n",
              "      \n",
              "  <style>\n",
              "    .colab-df-container {\n",
              "      display:flex;\n",
              "      flex-wrap:wrap;\n",
              "      gap: 12px;\n",
              "    }\n",
              "\n",
              "    .colab-df-convert {\n",
              "      background-color: #E8F0FE;\n",
              "      border: none;\n",
              "      border-radius: 50%;\n",
              "      cursor: pointer;\n",
              "      display: none;\n",
              "      fill: #1967D2;\n",
              "      height: 32px;\n",
              "      padding: 0 0 0 0;\n",
              "      width: 32px;\n",
              "    }\n",
              "\n",
              "    .colab-df-convert:hover {\n",
              "      background-color: #E2EBFA;\n",
              "      box-shadow: 0px 1px 2px rgba(60, 64, 67, 0.3), 0px 1px 3px 1px rgba(60, 64, 67, 0.15);\n",
              "      fill: #174EA6;\n",
              "    }\n",
              "\n",
              "    [theme=dark] .colab-df-convert {\n",
              "      background-color: #3B4455;\n",
              "      fill: #D2E3FC;\n",
              "    }\n",
              "\n",
              "    [theme=dark] .colab-df-convert:hover {\n",
              "      background-color: #434B5C;\n",
              "      box-shadow: 0px 1px 3px 1px rgba(0, 0, 0, 0.15);\n",
              "      filter: drop-shadow(0px 1px 2px rgba(0, 0, 0, 0.3));\n",
              "      fill: #FFFFFF;\n",
              "    }\n",
              "  </style>\n",
              "\n",
              "      <script>\n",
              "        const buttonEl =\n",
              "          document.querySelector('#df-9ade324d-ae69-4752-829a-cfd5fca72601 button.colab-df-convert');\n",
              "        buttonEl.style.display =\n",
              "          google.colab.kernel.accessAllowed ? 'block' : 'none';\n",
              "\n",
              "        async function convertToInteractive(key) {\n",
              "          const element = document.querySelector('#df-9ade324d-ae69-4752-829a-cfd5fca72601');\n",
              "          const dataTable =\n",
              "            await google.colab.kernel.invokeFunction('convertToInteractive',\n",
              "                                                     [key], {});\n",
              "          if (!dataTable) return;\n",
              "\n",
              "          const docLinkHtml = 'Like what you see? Visit the ' +\n",
              "            '<a target=\"_blank\" href=https://colab.research.google.com/notebooks/data_table.ipynb>data table notebook</a>'\n",
              "            + ' to learn more about interactive tables.';\n",
              "          element.innerHTML = '';\n",
              "          dataTable['output_type'] = 'display_data';\n",
              "          await google.colab.output.renderOutput(dataTable, element);\n",
              "          const docLink = document.createElement('div');\n",
              "          docLink.innerHTML = docLinkHtml;\n",
              "          element.appendChild(docLink);\n",
              "        }\n",
              "      </script>\n",
              "    </div>\n",
              "  </div>\n",
              "  "
            ]
          },
          "metadata": {},
          "execution_count": 6
        }
      ]
    },
    {
      "cell_type": "code",
      "source": [
        "def limpieza_datos():\n",
        "  global media_bitcoin,df_bitcoin_limpio\n",
        "  #Eliminando Indices Duplicados en el DataFrame -> df_bitcoin_limpio.index.drop_duplicates(inplace=True)\n",
        "  #Verificar si en la columna Close hay valores nulos\n",
        "  df_bitcoin_limpio = df_bitcoin_limpio[~df_bitcoin_limpio['Close'].isnull()]\n",
        "  #eliminamos los datos de la columna Volume que no sean mayor que 0\n",
        "  df_bitcoin_limpio=df_bitcoin_limpio[df_bitcoin_limpio['Volume']>0]\n",
        "  #Eliminamos Outliers\n",
        "  valor=df_bitcoin_limpio['Close']\n",
        "  q1 = valor.quantile(0.25)\n",
        "  q3 = valor.quantile(0.75)\n",
        "  iiq = q3 - q1\n",
        "  limite_inferior=q1-1.5*iiq\n",
        "  limite_superior=q3+1.5*iiq\n",
        "  seleccion=((valor>=limite_inferior)&(valor<=limite_superior))\n",
        "  df_bitcoin_limpio=df_bitcoin_limpio[seleccion]\n",
        "  media_bitcoin=df_bitcoin_limpio['Close'].mean()\n",
        "  media_bitcoin"
      ],
      "metadata": {
        "id": "tEOuCiQeoSBB"
      },
      "execution_count": 7,
      "outputs": []
    },
    {
      "cell_type": "code",
      "source": [
        "limpieza_datos()\n",
        "df_bitcoin_limpio.boxplot(['Close'])\n",
        "print(f'La media es {media_bitcoin}')"
      ],
      "metadata": {
        "colab": {
          "base_uri": "https://localhost:8080/",
          "height": 447
        },
        "id": "-lJCCGUy8jm7",
        "outputId": "c5810337-80b8-4403-cdb3-f839cb52f984"
      },
      "execution_count": 8,
      "outputs": [
        {
          "output_type": "stream",
          "name": "stdout",
          "text": [
            "La media es 27120.21498373507\n"
          ]
        },
        {
          "output_type": "display_data",
          "data": {
            "text/plain": [
              "<Figure size 640x480 with 1 Axes>"
            ],
            "image/png": "[encoded data removed]"
          },
          "metadata": {}
        }
      ]
    },
    {
      "cell_type": "markdown",
      "source": [
        "#4. Tomar Decisiones"
      ],
      "metadata": {
        "id": "_AImkU2r1858"
      }
    },
    {
      "cell_type": "code",
      "source": [
        "def tomar_decisiones():\n",
        "  global df_bitcoin, precio_actual, tendencia, media_bitcoin,  algoritmo_decision,df_bitcoin_limpio\n",
        "  if precio_actual>=media_bitcoin and tendencia =='Baja':\n",
        "    algoritmo_decision='Vender'\n",
        "  elif precio_actual<media_bitcoin and tendencia=='Alta':\n",
        "    algoritmo_decision='Comprar'\n",
        "  else:\n",
        "    algoritmo_decision='Esperar'"
      ],
      "metadata": {
        "id": "RYNjuWJWQ5Y8"
      },
      "execution_count": 9,
      "outputs": []
    },
    {
      "cell_type": "code",
      "source": [
        "#mostramos la desicion del algoritmo\n",
        "tomar_decisiones()\n",
        "print('Precio Promedio del Bitcoin: ',media_bitcoin)\n",
        "print('Precio Actual del Bitcoin: ',precio_actual)\n",
        "print('Tendencia: ',tendencia)\n",
        "print('Desicion del Algoritmo: ',algoritmo_decision)"
      ],
      "metadata": {
        "colab": {
          "base_uri": "https://localhost:8080/"
        },
        "id": "XCfAUr-zQ5js",
        "outputId": "d5482122-e35f-4fc7-c745-33b29750f997"
      },
      "execution_count": 10,
      "outputs": [
        {
          "output_type": "stream",
          "name": "stdout",
          "text": [
            "Precio Promedio del Bitcoin:  27120.21498373507\n",
            "Precio Actual del Bitcoin:  27183.76\n",
            "Tendencia:  Alta\n",
            "Desicion del Algoritmo:  Esperar\n"
          ]
        }
      ]
    },
    {
      "cell_type": "markdown",
      "source": [
        "#5. Visualización"
      ],
      "metadata": {
        "id": "RjZuE8rmQ5pc"
      }
    },
    {
      "cell_type": "code",
      "source": [
        "def visualizacion():\n",
        "  global df_bitcoin, precio_actual, tendencia, media_bitcoin,  algoritmo_decision,df_bitcoin_limpio\n",
        "  #Adicionamos una nueva columna en el dataFrame\n",
        "  df_bitcoin['Promedio'] = media_bitcoin\n",
        "  #Tamaño del Gráfico\n",
        "  plt.figure(figsize=(16,5))\n",
        "  #Titulo al Gráfico\n",
        "  plt.title('Bitcoin')\n",
        "  #Dibujar linea para los datos de la columna Close\n",
        "  df_bitcoin['Close'].plot(label='Precio Actual')\n",
        "  #Dibujar linea para los datos de la columna Promedio\n",
        "  df_bitcoin['Promedio'].plot(label='Promedio')\n",
        "  plt.xlabel('Fecha')\n",
        "  plt.ylabel('Precio')\n",
        "  plt.annotate(f'Decisión: {algoritmo_decision}', xy=(df_bitcoin.index[-1], df_bitcoin['Close'].iloc[-1]),xytext=(-130, 80), textcoords='offset points',\n",
        "  arrowprops=dict(arrowstyle='->'),fontsize=14)\n",
        "  # Mostrar gráfico\n",
        "  plt.show()"
      ],
      "metadata": {
        "id": "PRHEhYvirOAf"
      },
      "execution_count": 11,
      "outputs": []
    },
    {
      "cell_type": "code",
      "source": [
        "visualizacion()"
      ],
      "metadata": {
        "id": "8doZnn7OT6RK",
        "colab": {
          "base_uri": "https://localhost:8080/",
          "height": 449
        },
        "outputId": "da4de5b4-8c2c-4f6e-fb53-64814afa2a6b"
      },
      "execution_count": 12,
      "outputs": [
        {
          "output_type": "display_data",
          "data": {
            "text/plain": [
              "<Figure size 1600x500 with 1 Axes>"
            ],
            "image/png": "[encoded data removed]"
          },
          "metadata": {}
        }
      ]
    },
    {
      "cell_type": "markdown",
      "source": [
        "#Automatizar"
      ],
      "metadata": {
        "id": "RJIy-9TMURzG"
      }
    },
    {
      "cell_type": "code",
      "source": [
        "from IPython.display import clear_output\n",
        "import time\n",
        "\n",
        "while True:\n",
        "    clear_output()\n",
        "    importar_base_bitcoin()\n",
        "    extraer_tendencias()\n",
        "    limpieza_datos()\n",
        "    tomar_decisiones()\n",
        "    visualizacion()\n",
        "    time.sleep(300)"
      ],
      "metadata": {
        "id": "oeHNtLIgbFl4"
      },
      "execution_count": null,
      "outputs": []
    }
  ]
}